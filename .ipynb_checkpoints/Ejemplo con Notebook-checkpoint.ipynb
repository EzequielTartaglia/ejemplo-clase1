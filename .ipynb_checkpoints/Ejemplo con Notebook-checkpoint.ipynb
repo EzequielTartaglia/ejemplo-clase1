{
 "cells": [
  {
   "cell_type": "code",
   "execution_count": null,
   "id": "d6067d73-daba-468e-8756-f1b1c01a659c",
   "metadata": {},
   "outputs": [],
   "source": []
  },
  {
   "cell_type": "code",
   "execution_count": null,
   "id": "7d141960-4ecc-4d21-b1ad-717dd7f3f2fe",
   "metadata": {},
   "outputs": [],
   "source": []
  }
 ],
 "metadata": {
  "kernelspec": {
   "display_name": "Python 3 (ipykernel)",
   "language": "python",
   "name": "python3"
  },
  "language_info": {
   "codemirror_mode": {
    "name": "ipython",
    "version": 3
   },
   "file_extension": ".py",
   "mimetype": "text/x-python",
   "name": "python",
   "nbconvert_exporter": "python",
   "pygments_lexer": "ipython3",
   "version": "3.10.13"
  }
 },
 "nbformat": 4,
 "nbformat_minor": 5
}
